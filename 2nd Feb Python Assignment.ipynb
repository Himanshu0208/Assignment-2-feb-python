{
 "cells": [
  {
   "cell_type": "markdown",
   "id": "8b9af059-ea68-4384-9fa6-83f3fa4112ae",
   "metadata": {},
   "source": [
    "## Ques 1\n",
    "1. for - these are used when we know how long we have to run the loop, ex-print all the numbers from 1 to 10\n",
    "2. while - these are used when we don't know how long we have to run the loop, ex- run the loop and take user input in each iteration until             user enters 5"
   ]
  },
  {
   "cell_type": "markdown",
   "id": "bddaeb3d-d2eb-4072-bc42-71f1e84155b6",
   "metadata": {},
   "source": [
    "## Ques 2"
   ]
  },
  {
   "cell_type": "code",
   "execution_count": 3,
   "id": "5ad47fbf-0a3c-4c05-b7be-1e8142072559",
   "metadata": {},
   "outputs": [
    {
     "name": "stdout",
     "output_type": "stream",
     "text": [
      "Sum of first 10 natural numbers is 55\n",
      "Product of first 10 natural numbers is 3628800\n"
     ]
    }
   ],
   "source": [
    "# For\n",
    "sums = 0\n",
    "product = 1\n",
    "\n",
    "for i in range(1,11):\n",
    "    sums += i\n",
    "    product *= i\n",
    "\n",
    "print('Sum of first 10 natural numbers is ' + str(sums))\n",
    "print('Product of first 10 natural numbers is ' + str(product))"
   ]
  },
  {
   "cell_type": "code",
   "execution_count": 4,
   "id": "3b50a9be-7d16-4210-8476-57b02ebc8a73",
   "metadata": {},
   "outputs": [
    {
     "name": "stdout",
     "output_type": "stream",
     "text": [
      "Sum of first 10 natural numbers is 55\n",
      "Product of first 10 natural numbers is 3628800\n"
     ]
    }
   ],
   "source": [
    "# While\n",
    "count = 1\n",
    "sums = 0\n",
    "product = 1\n",
    "\n",
    "while count <= 10:\n",
    "    sums += count\n",
    "    product *= count\n",
    "    count += 1\n",
    "\n",
    "print('Sum of first 10 natural numbers is ' + str(sums))\n",
    "print('Product of first 10 natural numbers is ' + str(product))"
   ]
  },
  {
   "cell_type": "markdown",
   "id": "22857214-d13d-42aa-a418-2fd053f2fcfd",
   "metadata": {},
   "source": [
    "## Ques 3"
   ]
  },
  {
   "cell_type": "code",
   "execution_count": 6,
   "id": "4c2983bb-86cd-4115-9e3a-4033344d1d46",
   "metadata": {},
   "outputs": [
    {
     "name": "stdin",
     "output_type": "stream",
     "text": [
      "Enter the units consumed 310\n"
     ]
    },
    {
     "name": "stdout",
     "output_type": "stream",
     "text": [
      "The bill of 310 is 2250\n"
     ]
    }
   ],
   "source": [
    "units = int(input('Enter the units consumed'))\n",
    "bill = 0\n",
    "copy = units\n",
    "\n",
    "if units >= 100:\n",
    "    bill = 450\n",
    "    units -= 100\n",
    "    if units >= 100:\n",
    "        bill += 600\n",
    "        units -= 100\n",
    "        if units >= 100:\n",
    "            bill += 1000\n",
    "            units -= 100\n",
    "            if units > 0:\n",
    "                bill += units * 20\n",
    "        elif units > 0:\n",
    "            bill += units * 10\n",
    "    elif units > 0:\n",
    "        bill += units * 6\n",
    "else :\n",
    "    bill = units * 4.5\n",
    "    \n",
    "print('The bill of' , copy , 'is' , bill)"
   ]
  },
  {
   "cell_type": "markdown",
   "id": "493dcccc-ccb4-4f3a-bfd2-d22cd5c69823",
   "metadata": {},
   "source": [
    "## Ques 4"
   ]
  },
  {
   "cell_type": "code",
   "execution_count": 2,
   "id": "89b983e8-a4db-4b9a-85ab-3d463986df68",
   "metadata": {},
   "outputs": [],
   "source": [
    "l = list(range(1,101))"
   ]
  },
  {
   "cell_type": "code",
   "execution_count": 3,
   "id": "c0204de8-69a5-4cb8-a028-2b54913bce59",
   "metadata": {},
   "outputs": [
    {
     "name": "stdout",
     "output_type": "stream",
     "text": [
      "[2, 4, 5, 6, 8, 10, 12, 14, 15, 16, 18, 20, 22, 24, 25, 26, 28, 30, 32, 34, 35, 36, 38, 40, 42, 44, 45, 46, 48, 50, 52, 54, 55, 56, 58, 60, 62, 64, 65, 66, 68, 70, 72, 74, 75, 76, 78, 80, 82, 84, 85, 86, 88, 90, 92, 94, 95, 96, 98, 100]\n"
     ]
    }
   ],
   "source": [
    "# for\n",
    "ans_for = []\n",
    "\n",
    "for i in l:\n",
    "    cube = i**3\n",
    "    if (cube % 4 == 0) or (cube % 5 == 0):\n",
    "        ans_for.append(i)\n",
    "print(ans_for)"
   ]
  },
  {
   "cell_type": "code",
   "execution_count": 5,
   "id": "ea64647b-915f-4b9d-a7f9-f947ed8d8d96",
   "metadata": {},
   "outputs": [
    {
     "name": "stdout",
     "output_type": "stream",
     "text": [
      "[2, 4, 5, 6, 8, 10, 12, 14, 15, 16, 18, 20, 22, 24, 25, 26, 28, 30, 32, 34, 35, 36, 38, 40, 42, 44, 45, 46, 48, 50, 52, 54, 55, 56, 58, 60, 62, 64, 65, 66, 68, 70, 72, 74, 75, 76, 78, 80, 82, 84, 85, 86, 88, 90, 92, 94, 95, 96, 98, 100]\n"
     ]
    }
   ],
   "source": [
    "# while \n",
    "ans_while = []\n",
    "i = 0\n",
    "\n",
    "while i < len(l):\n",
    "    cube = l[i]**3\n",
    "    if (cube % 4 == 0) or (cube % 5 == 0):\n",
    "        ans_while.append(l[i])\n",
    "    i += 1\n",
    "print(ans_while)"
   ]
  },
  {
   "cell_type": "markdown",
   "id": "9c91e351-7c90-4fea-98ab-e02a48e12587",
   "metadata": {},
   "source": [
    "## Ques 5"
   ]
  },
  {
   "cell_type": "code",
   "execution_count": 8,
   "id": "549a52c3-ec3d-4caf-b9b7-e33aa50023ac",
   "metadata": {},
   "outputs": [
    {
     "data": {
      "text/plain": [
       "'i want to become data scientist'"
      ]
     },
     "execution_count": 8,
     "metadata": {},
     "output_type": "execute_result"
    }
   ],
   "source": [
    "s = 'I want to become data scientist'\n",
    "s = s.lower()\n",
    "consonant = set()\n",
    "vowel = set()\n",
    "for i in s:\n",
    "    if i == 'a' or i == 'e' or i == 'i' or i == 'o' or i == 'u':\n",
    "        consonant.add()"
   ]
  },
    {
   "cell_type": "code",
   "execution_count": null,
   "id": "ee5b3a4d-3376-437b-817c-b3646d776091",
   "metadata": {},
   "outputs": [],
   "source": []
  }
 ],
 "metadata": {
  "kernelspec": {
   "display_name": "Python 3 (ipykernel)",
   "language": "python",
   "name": "python3"
  },
  "language_info": {
   "codemirror_mode": {
    "name": "ipython",
    "version": 3
   },
   "file_extension": ".py",
   "mimetype": "text/x-python",
   "name": "python",
   "nbconvert_exporter": "python",
   "pygments_lexer": "ipython3",
   "version": "3.10.8"
  }
 },
 "nbformat": 4,
 "nbformat_minor": 5
}
